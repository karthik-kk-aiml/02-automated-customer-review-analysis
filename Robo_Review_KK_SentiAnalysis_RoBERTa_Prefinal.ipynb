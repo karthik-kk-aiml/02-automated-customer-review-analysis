{
 "cells": [
  {
   "cell_type": "markdown",
   "metadata": {},
   "source": [
    "# Use of RoBERTa Model for Sentiment Analysis!"
   ]
  },
  {
   "cell_type": "code",
   "execution_count": 1,
   "metadata": {},
   "outputs": [
    {
     "name": "stderr",
     "output_type": "stream",
     "text": [
      "2024-10-14 18:33:22.571756: E external/local_xla/xla/stream_executor/cuda/cuda_dnn.cc:9261] Unable to register cuDNN factory: Attempting to register factory for plugin cuDNN when one has already been registered\n",
      "2024-10-14 18:33:22.571815: E external/local_xla/xla/stream_executor/cuda/cuda_fft.cc:607] Unable to register cuFFT factory: Attempting to register factory for plugin cuFFT when one has already been registered\n",
      "2024-10-14 18:33:22.573013: E external/local_xla/xla/stream_executor/cuda/cuda_blas.cc:1515] Unable to register cuBLAS factory: Attempting to register factory for plugin cuBLAS when one has already been registered\n",
      "2024-10-14 18:33:22.579830: I tensorflow/core/platform/cpu_feature_guard.cc:182] This TensorFlow binary is optimized to use available CPU instructions in performance-critical operations.\n",
      "To enable the following instructions: AVX2 FMA, in other operations, rebuild TensorFlow with the appropriate compiler flags.\n",
      "2024-10-14 18:33:24.067980: W tensorflow/compiler/tf2tensorrt/utils/py_utils.cc:38] TF-TRT Warning: Could not find TensorRT\n"
     ]
    }
   ],
   "source": [
    "# Import Libraries\n",
    "from datasets import load_dataset\n",
    "from transformers import (\n",
    "    RobertaTokenizer,\n",
    "    RobertaForSequenceClassification,\n",
    "    Trainer,\n",
    "    TrainingArguments,\n",
    ")\n",
    "from transformers.modeling_outputs import SequenceClassifierOutput\n",
    "from transformers import DataCollatorWithPadding\n",
    "import torch\n",
    "import os\n",
    "\n",
    "os.environ[\"WANDB_DISABLED\"] = \"true\""
   ]
  },
  {
   "cell_type": "code",
   "execution_count": 2,
   "metadata": {},
   "outputs": [],
   "source": [
    "import pandas as pd\n",
    "import numpy as np\n",
    "import matplotlib.pyplot as plt\n",
    "import seaborn as sns\n",
    "import matplotlib as mpl\n",
    "import nltk.classify.util\n",
    "from sklearn.model_selection import train_test_split\n",
    "from sklearn.metrics import accuracy_score, precision_recall_fscore_support\n",
    "from sklearn.metrics import confusion_matrix\n",
    "from sklearn import metrics\n",
    "from sklearn.metrics import roc_curve, auc\n",
    "from nltk.classify import (\n",
    "    NaiveBayesClassifier,\n",
    ")  # NaiveBayes classifer for comparison with RoBERTa transformer model\n",
    "import numpy as np\n",
    "import re\n",
    "import string\n",
    "import nltk\n",
    "\n",
    "%matplotlib inline"
   ]
  },
  {
   "cell_type": "code",
   "execution_count": 3,
   "metadata": {},
   "outputs": [],
   "source": [
    "# Install Hugging Face Transformers and datasets\n",
    "#!pip install transformers datasets\n",
    "device = \"cuda\" if torch.cuda.is_available() else \"cpu\""
   ]
  },
  {
   "cell_type": "code",
   "execution_count": 5,
   "metadata": {},
   "outputs": [
    {
     "name": "stderr",
     "output_type": "stream",
     "text": [
      "/tmp/ipykernel_40/4080299592.py:1: DtypeWarning: Columns (1,10) have mixed types. Specify dtype option on import or set low_memory=False.\n",
      "  df = pd.read_csv(r\"dataset/1429_1.csv\")\n"
     ]
    }
   ],
   "source": [
    "df = pd.read_csv(r\"dataset/1429_1.csv\")\n",
    "# df.head()"
   ]
  },
  {
   "cell_type": "code",
   "execution_count": 6,
   "metadata": {},
   "outputs": [
    {
     "data": {
      "text/plain": [
       "(34660, 21)"
      ]
     },
     "execution_count": 6,
     "metadata": {},
     "output_type": "execute_result"
    }
   ],
   "source": [
    "df.shape"
   ]
  },
  {
   "cell_type": "code",
   "execution_count": 7,
   "metadata": {},
   "outputs": [
    {
     "data": {
      "text/plain": [
       "(34627, 21)"
      ]
     },
     "execution_count": 7,
     "metadata": {},
     "output_type": "execute_result"
    }
   ],
   "source": [
    "# Drop rows where Rating ('Reviews.rating') is missing - about 33 of them in the entire 35K dataset (less than .1%)\n",
    "df = df.dropna(subset=[\"reviews.rating\"])\n",
    "df.shape"
   ]
  },
  {
   "cell_type": "code",
   "execution_count": 8,
   "metadata": {},
   "outputs": [
    {
     "name": "stdout",
     "output_type": "stream",
     "text": [
      "                                        reviews.text  reviews.rating  label\n",
      "0  This product so far has not disappointed. My c...             5.0      2\n",
      "1  great for beginner or experienced person. Boug...             5.0      2\n",
      "2  Inexpensive tablet for him to use and learn on...             5.0      2\n",
      "3  I've had my Fire HD 8 two weeks now and I love...             4.0      2\n",
      "4  I bought this for my grand daughter when she c...             5.0      2\n",
      "(34626, 22)\n"
     ]
    }
   ],
   "source": [
    "# Add a 'label' column based on 'reviews.rating' which will indicate if it's positive or negative\n",
    "def label_sentiment(rating):\n",
    "    if rating in [1, 2]:\n",
    "        return 0  # Negative\n",
    "    elif rating == 3:\n",
    "        return 1  # Neutral\n",
    "    else:\n",
    "        return 2  # Positive\n",
    "\n",
    "\n",
    "# Apply the function to create a new column\n",
    "df[\"label\"] = df[\"reviews.rating\"].apply(label_sentiment)\n",
    "\n",
    "# Drop rows where 'reviews.text' is missing (if any)\n",
    "df = df.dropna(subset=[\"reviews.text\"])\n",
    "\n",
    "# Check the new DataFrame structure\n",
    "print(df[[\"reviews.text\", \"reviews.rating\", \"label\"]].head())\n",
    "print(df.shape)"
   ]
  },
  {
   "cell_type": "code",
   "execution_count": 23,
   "metadata": {},
   "outputs": [],
   "source": [
    "df.to_pickle(\"df1429_1.pkl\")\n",
    "\n",
    "# df_loaded = pd.read_pickle(\"df1429_1.pkl\")"
   ]
  },
  {
   "cell_type": "code",
   "execution_count": 9,
   "metadata": {},
   "outputs": [
    {
     "name": "stdout",
     "output_type": "stream",
     "text": [
      "Training set size: 27700\n",
      "Validation set size: 6926\n"
     ]
    }
   ],
   "source": [
    "# Split the dataset into Train and Validation set\n",
    "\n",
    "train_texts, val_texts, train_labels, val_labels = train_test_split(\n",
    "    df[\"reviews.text\"].tolist(), df[\"label\"].tolist(), test_size=0.2, random_state=42\n",
    ")\n",
    "\n",
    "print(f\"Training set size: {len(train_texts)}\")\n",
    "print(f\"Validation set size: {len(val_texts)}\")"
   ]
  },
  {
   "cell_type": "code",
   "execution_count": 10,
   "metadata": {},
   "outputs": [],
   "source": [
    "import torch\n",
    "\n",
    "# Clear the CUDA cache\n",
    "torch.cuda.empty_cache()"
   ]
  },
  {
   "cell_type": "code",
   "execution_count": 11,
   "metadata": {},
   "outputs": [
    {
     "data": {
      "application/vnd.jupyter.widget-view+json": {
       "model_id": "d1e2c860d3be405fa0f64c8529cd61c9",
       "version_major": 2,
       "version_minor": 0
      },
      "text/plain": [
       "tokenizer_config.json:   0%|          | 0.00/25.0 [00:00<?, ?B/s]"
      ]
     },
     "metadata": {},
     "output_type": "display_data"
    },
    {
     "data": {
      "application/vnd.jupyter.widget-view+json": {
       "model_id": "ee679a564af94ea68bb0e98b692aa4f1",
       "version_major": 2,
       "version_minor": 0
      },
      "text/plain": [
       "vocab.json:   0%|          | 0.00/899k [00:00<?, ?B/s]"
      ]
     },
     "metadata": {},
     "output_type": "display_data"
    },
    {
     "data": {
      "application/vnd.jupyter.widget-view+json": {
       "model_id": "779f347580a6423085a49e2f38c9d674",
       "version_major": 2,
       "version_minor": 0
      },
      "text/plain": [
       "merges.txt:   0%|          | 0.00/456k [00:00<?, ?B/s]"
      ]
     },
     "metadata": {},
     "output_type": "display_data"
    },
    {
     "data": {
      "application/vnd.jupyter.widget-view+json": {
       "model_id": "6db05641071343f6bd1050dabd7fb31c",
       "version_major": 2,
       "version_minor": 0
      },
      "text/plain": [
       "tokenizer.json:   0%|          | 0.00/1.36M [00:00<?, ?B/s]"
      ]
     },
     "metadata": {},
     "output_type": "display_data"
    },
    {
     "data": {
      "application/vnd.jupyter.widget-view+json": {
       "model_id": "89c776515c854e528c7bb21d571dd5a3",
       "version_major": 2,
       "version_minor": 0
      },
      "text/plain": [
       "config.json:   0%|          | 0.00/481 [00:00<?, ?B/s]"
      ]
     },
     "metadata": {},
     "output_type": "display_data"
    }
   ],
   "source": [
    "# Load the RoBERTa tokenizer\n",
    "tokenizer = RobertaTokenizer.from_pretrained(\"roberta-base\")\n",
    "\n",
    "# Tokenize the text data\n",
    "train_encodings = tokenizer(train_texts, truncation=True, padding=True, max_length=128)\n",
    "val_encodings = tokenizer(val_texts, truncation=True, padding=True, max_length=128)"
   ]
  },
  {
   "cell_type": "code",
   "execution_count": 12,
   "metadata": {},
   "outputs": [],
   "source": [
    "# Create PyTorch datasets from the tokenized ones above, so it can be used in the Model\n",
    "\n",
    "class SentimentDataset(torch.utils.data.Dataset):\n",
    "    def __init__(self, encodings, labels):\n",
    "        self.encodings = encodings\n",
    "        self.labels = labels\n",
    "\n",
    "    def __getitem__(self, idx):\n",
    "        item = {key: torch.tensor(val[idx]) for key, val in self.encodings.items()}\n",
    "        item[\"labels\"] = torch.tensor(self.labels[idx])\n",
    "        return item\n",
    "\n",
    "    def __len__(self):\n",
    "        return len(self.labels)\n",
    "\n",
    "\n",
    "# Create PyTorch datasetsf\n",
    "train_dataset = SentimentDataset(train_encodings, train_labels)\n",
    "val_dataset = SentimentDataset(val_encodings, val_labels)"
   ]
  },
  {
   "cell_type": "code",
   "execution_count": 13,
   "metadata": {},
   "outputs": [
    {
     "data": {
      "application/vnd.jupyter.widget-view+json": {
       "model_id": "490dca819c4c486fb95214794ff38c87",
       "version_major": 2,
       "version_minor": 0
      },
      "text/plain": [
       "model.safetensors:   0%|          | 0.00/499M [00:00<?, ?B/s]"
      ]
     },
     "metadata": {},
     "output_type": "display_data"
    },
    {
     "name": "stderr",
     "output_type": "stream",
     "text": [
      "Some weights of WeightedRobertaForSequenceClassification were not initialized from the model checkpoint at roberta-base and are newly initialized: ['classifier.out_proj.weight', 'classifier.dense.bias', 'classifier.out_proj.bias', 'classifier.dense.weight']\n",
      "You should probably TRAIN this model on a down-stream task to be able to use it for predictions and inference.\n"
     ]
    },
    {
     "data": {
      "text/plain": [
       "WeightedRobertaForSequenceClassification(\n",
       "  (roberta): RobertaModel(\n",
       "    (embeddings): RobertaEmbeddings(\n",
       "      (word_embeddings): Embedding(50265, 768, padding_idx=1)\n",
       "      (position_embeddings): Embedding(514, 768, padding_idx=1)\n",
       "      (token_type_embeddings): Embedding(1, 768)\n",
       "      (LayerNorm): LayerNorm((768,), eps=1e-05, elementwise_affine=True)\n",
       "      (dropout): Dropout(p=0.1, inplace=False)\n",
       "    )\n",
       "    (encoder): RobertaEncoder(\n",
       "      (layer): ModuleList(\n",
       "        (0-11): 12 x RobertaLayer(\n",
       "          (attention): RobertaAttention(\n",
       "            (self): RobertaSelfAttention(\n",
       "              (query): Linear(in_features=768, out_features=768, bias=True)\n",
       "              (key): Linear(in_features=768, out_features=768, bias=True)\n",
       "              (value): Linear(in_features=768, out_features=768, bias=True)\n",
       "              (dropout): Dropout(p=0.1, inplace=False)\n",
       "            )\n",
       "            (output): RobertaSelfOutput(\n",
       "              (dense): Linear(in_features=768, out_features=768, bias=True)\n",
       "              (LayerNorm): LayerNorm((768,), eps=1e-05, elementwise_affine=True)\n",
       "              (dropout): Dropout(p=0.1, inplace=False)\n",
       "            )\n",
       "          )\n",
       "          (intermediate): RobertaIntermediate(\n",
       "            (dense): Linear(in_features=768, out_features=3072, bias=True)\n",
       "            (intermediate_act_fn): GELUActivation()\n",
       "          )\n",
       "          (output): RobertaOutput(\n",
       "            (dense): Linear(in_features=3072, out_features=768, bias=True)\n",
       "            (LayerNorm): LayerNorm((768,), eps=1e-05, elementwise_affine=True)\n",
       "            (dropout): Dropout(p=0.1, inplace=False)\n",
       "          )\n",
       "        )\n",
       "      )\n",
       "    )\n",
       "  )\n",
       "  (classifier): RobertaClassificationHead(\n",
       "    (dense): Linear(in_features=768, out_features=768, bias=True)\n",
       "    (dropout): Dropout(p=0.1, inplace=False)\n",
       "    (out_proj): Linear(in_features=768, out_features=3, bias=True)\n",
       "  )\n",
       ")"
      ]
     },
     "execution_count": 13,
     "metadata": {},
     "output_type": "execute_result"
    }
   ],
   "source": [
    "# Due to the input dataset heavily skewed towards positive, need to introduce class weights into the model (to pump up the minority classes)\n",
    "# No changes to the Dataset\n",
    "\n",
    "from sklearn.utils.class_weight import compute_class_weight\n",
    "import torch\n",
    "from transformers import Trainer, TrainingArguments\n",
    "\n",
    "# Step 1: Compute class weights based on the training labels\n",
    "class_weights = compute_class_weight(\"balanced\", classes=[0, 1, 2], y=train_labels)\n",
    "class_weights_tensor = torch.tensor(class_weights, dtype=torch.float)\n",
    "\n",
    "\n",
    "# Step 2: Modify the model to incorporate class weights in the loss function\n",
    "class WeightedRobertaForSequenceClassification(RobertaForSequenceClassification):\n",
    "    def __init__(self, config, class_weights):\n",
    "        super().__init__(config)\n",
    "        self.class_weights = class_weights\n",
    "\n",
    "    def forward(self, input_ids=None, attention_mask=None, labels=None, **kwargs):\n",
    "        # Perform the standard forward pass\n",
    "        outputs = super().forward(\n",
    "            input_ids=input_ids, attention_mask=attention_mask, **kwargs\n",
    "        )\n",
    "\n",
    "        # Compute the custom loss with class weights\n",
    "        logits = outputs.logits\n",
    "        if labels is not None:\n",
    "            # Move class weights to the same device as the model (either CPU or GPU)\n",
    "            self.class_weights = self.class_weights.to(logits.device)\n",
    "            loss_fct = torch.nn.CrossEntropyLoss(\n",
    "                weight=self.class_weights\n",
    "            )  # Incorporate class weights\n",
    "            loss = loss_fct(logits.view(-1, self.num_labels), labels.view(-1))\n",
    "            # Return the loss within the SequenceClassifierOutput structure\n",
    "            return SequenceClassifierOutput(\n",
    "                loss=loss,\n",
    "                logits=logits,\n",
    "                hidden_states=outputs.hidden_states,\n",
    "                attentions=outputs.attentions,\n",
    "            )\n",
    "        else:\n",
    "\n",
    "            return outputs\n",
    "\n",
    "\n",
    "# Initialize the custom model with class weights\n",
    "\n",
    "model = WeightedRobertaForSequenceClassification.from_pretrained(\n",
    "    \"roberta-base\", num_labels=3, class_weights=class_weights_tensor\n",
    ")\n",
    "\n",
    "# Move the weights to GPU as the model is already there\n",
    "device = torch.device(\"cuda\" if torch.cuda.is_available() else \"cpu\")\n",
    "model.to(device)  # Move model to GPU"
   ]
  },
  {
   "cell_type": "code",
   "execution_count": 14,
   "metadata": {},
   "outputs": [
    {
     "name": "stderr",
     "output_type": "stream",
     "text": [
      "Using the `WANDB_DISABLED` environment variable is deprecated and will be removed in v5. Use the --report_to flag to control the integrations used for logging result (for instance --report_to none).\n"
     ]
    }
   ],
   "source": [
    "# Defining Training Argeuments - how the model will be trained\n",
    "\n",
    "training_args = TrainingArguments(\n",
    "    output_dir=\"./results\",  # Output directory\n",
    "    num_train_epochs=3,  # Number of training epochs changed EPOCH TO 3\n",
    "    per_device_train_batch_size=16,  # Batch size for training\n",
    "    per_device_eval_batch_size=64,  # Batch size for evaluation\n",
    "    warmup_steps=500,  # Number of warmup steps for learning rate scheduler\n",
    "    weight_decay=0.01,  # Strength of weight decay\n",
    "    logging_dir=\"./logs\",  # Directory for storing logs\n",
    "    evaluation_strategy=\"steps\",  # Evaluate every X steps\n",
    "    logging_steps=500,  # Log every X steps\n",
    "    save_steps=1000,  # Save model every X steps\n",
    "    save_total_limit=2,  # Save only the 2 most recent models\n",
    "    load_best_model_at_end=True,  # Load the best model after training\n",
    "    eval_steps=500,  # Evaluation frequency\n",
    ")\n",
    "\n",
    "# Data collator for dynamic padding\n",
    "data_collator = DataCollatorWithPadding(tokenizer=tokenizer)"
   ]
  },
  {
   "cell_type": "code",
   "execution_count": 15,
   "metadata": {},
   "outputs": [],
   "source": [
    "\"\"\" # CROSS-VALIDATION because the class is skewed to Positive (Ratings 4 & 5) after the Class_weights implementation\n",
    "\n",
    "from sklearn.model_selection import StratifiedKFold\n",
    "import numpy as np\n",
    "\n",
    "# Prepare for Stratified K-Fold Cross-Validation\n",
    "n_splits = 5  # Number of folds\n",
    "skf = StratifiedKFold(n_splits=n_splits, shuffle=True, random_state=42)\n",
    "\n",
    "# Convert your encodings and labels to NumPy arrays for easier splitting\n",
    "all_encodings_np = {key: np.array(val) for key, val in train_dataset.encodings.items()}\n",
    "all_labels_np = np.array(train_dataset.labels)\n",
    "\n",
    "# List to store results for each fold\n",
    "fold_results = []\n",
    "\n",
    "# Start Stratified K-Fold Cross-Validation\n",
    "for fold, (train_idx, val_idx) in enumerate(skf.split(all_labels_np, all_labels_np)):  # stratified split\n",
    "    print(f\"Training fold {fold+1}/{n_splits}\")\n",
    "\n",
    "    # Create the training and validation datasets for this fold\n",
    "    train_encodings_fold = {key: val[train_idx] for key, val in all_encodings_np.items()}\n",
    "    val_encodings_fold = {key: val[val_idx] for key, val in all_encodings_np.items()}\n",
    "    \n",
    "    train_labels_fold = all_labels_np[train_idx]\n",
    "    val_labels_fold = all_labels_np[val_idx]\n",
    "\n",
    "    # Create PyTorch datasets for this fold from the numpy Arrays ///****** Important step as only Pytorch can be processed by RoBERTa  model **///\n",
    "    train_dataset_fold = SentimentDataset(train_encodings_fold, train_labels_fold)\n",
    "    val_dataset_fold = SentimentDataset(val_encodings_fold, val_labels_fold)\n",
    "\n",
    "    # Initialize Trainer for this fold\n",
    "    trainer = Trainer(\n",
    "        model=model,                         # Pre-trained RoBERTa model\n",
    "        args=training_args,                  # Training arguments\n",
    "        train_dataset=train_dataset_fold,    # Training dataset for the current fold\n",
    "        eval_dataset=val_dataset_fold,       # Validation dataset for the current fold\n",
    "        tokenizer=tokenizer,                 # Tokenizer\n",
    "        data_collator=data_collator          # Data collator for padding\n",
    "    )\n",
    "\n",
    "    # Train the model on this fold\n",
    "    trainer.train()\n",
    "\n",
    "    # Evaluate the model on the validation set for this fold\n",
    "    eval_results = trainer.evaluate()\n",
    "    \n",
    "    # Save the results for this fold\n",
    "    fold_results.append(eval_results)\n",
    "    \n",
    "    # Print results for this fold\n",
    "    print(f\"Results for fold {fold+1}: {eval_results}\")\n",
    "\n",
    "# After all folds, aggregate and print the results\n",
    "avg_results = {\n",
    "    metric: np.mean([fold[metric] for fold in fold_results])\n",
    "    for metric in fold_results[0].keys()\n",
    "}\n",
    "\n",
    "print(f\"Average Cross-Validation Results: {avg_results}\")\n",
    " \"\"\""
   ]
  },
  {
   "cell_type": "code",
   "execution_count": 15,
   "metadata": {},
   "outputs": [],
   "source": [
    "# Initialize the Trainer - with all the defined info from above.\n",
    "trainer = Trainer(\n",
    "    model=model,  # pre-trained RoBERTa model\n",
    "    args=training_args,  # Training arguments as defined above\n",
    "    train_dataset=train_dataset,  # Training dataset\n",
    "    eval_dataset=val_dataset,  # Validation dataset\n",
    "    tokenizer=tokenizer,  # Tokenizer\n",
    "    data_collator=data_collator,  # Data collator for padding\n",
    ")"
   ]
  },
  {
   "cell_type": "code",
   "execution_count": 16,
   "metadata": {},
   "outputs": [
    {
     "data": {
      "text/html": [
       "\n",
       "    <div>\n",
       "      \n",
       "      <progress value='5196' max='5196' style='width:300px; height:20px; vertical-align: middle;'></progress>\n",
       "      [5196/5196 10:36, Epoch 3/3]\n",
       "    </div>\n",
       "    <table border=\"1\" class=\"dataframe\">\n",
       "  <thead>\n",
       " <tr style=\"text-align: left;\">\n",
       "      <th>Step</th>\n",
       "      <th>Training Loss</th>\n",
       "      <th>Validation Loss</th>\n",
       "    </tr>\n",
       "  </thead>\n",
       "  <tbody>\n",
       "    <tr>\n",
       "      <td>500</td>\n",
       "      <td>1.130300</td>\n",
       "      <td>1.115325</td>\n",
       "    </tr>\n",
       "    <tr>\n",
       "      <td>1000</td>\n",
       "      <td>1.094900</td>\n",
       "      <td>1.067776</td>\n",
       "    </tr>\n",
       "    <tr>\n",
       "      <td>1500</td>\n",
       "      <td>1.109200</td>\n",
       "      <td>1.276933</td>\n",
       "    </tr>\n",
       "    <tr>\n",
       "      <td>2000</td>\n",
       "      <td>1.049600</td>\n",
       "      <td>1.160660</td>\n",
       "    </tr>\n",
       "    <tr>\n",
       "      <td>2500</td>\n",
       "      <td>1.067700</td>\n",
       "      <td>1.235520</td>\n",
       "    </tr>\n",
       "    <tr>\n",
       "      <td>3000</td>\n",
       "      <td>1.065500</td>\n",
       "      <td>1.179372</td>\n",
       "    </tr>\n",
       "    <tr>\n",
       "      <td>3500</td>\n",
       "      <td>1.049800</td>\n",
       "      <td>1.183160</td>\n",
       "    </tr>\n",
       "    <tr>\n",
       "      <td>4000</td>\n",
       "      <td>1.039600</td>\n",
       "      <td>1.187101</td>\n",
       "    </tr>\n",
       "    <tr>\n",
       "      <td>4500</td>\n",
       "      <td>1.053400</td>\n",
       "      <td>1.152471</td>\n",
       "    </tr>\n",
       "    <tr>\n",
       "      <td>5000</td>\n",
       "      <td>1.058300</td>\n",
       "      <td>1.151021</td>\n",
       "    </tr>\n",
       "  </tbody>\n",
       "</table><p>"
      ],
      "text/plain": [
       "<IPython.core.display.HTML object>"
      ]
     },
     "metadata": {},
     "output_type": "display_data"
    },
    {
     "data": {
      "text/plain": [
       "TrainOutput(global_step=5196, training_loss=1.0712467719262337, metrics={'train_runtime': 637.1639, 'train_samples_per_second': 130.422, 'train_steps_per_second': 8.155, 'total_flos': 5466181253299200.0, 'train_loss': 1.0712467719262337, 'epoch': 3.0})"
      ]
     },
     "execution_count": 16,
     "metadata": {},
     "output_type": "execute_result"
    }
   ],
   "source": [
    "# Train the model now to fine-tune the model for our customer review purposes\n",
    "trainer.train()"
   ]
  },
  {
   "cell_type": "code",
   "execution_count": 17,
   "metadata": {},
   "outputs": [
    {
     "data": {
      "text/html": [],
      "text/plain": [
       "<IPython.core.display.HTML object>"
      ]
     },
     "metadata": {},
     "output_type": "display_data"
    },
    {
     "name": "stdout",
     "output_type": "stream",
     "text": [
      "{'eval_loss': 1.0677762031555176, 'eval_runtime': 10.999, 'eval_samples_per_second': 629.692, 'eval_steps_per_second': 9.91, 'epoch': 3.0}\n"
     ]
    }
   ],
   "source": [
    "# Evaluate the model using validation data\n",
    "results = trainer.evaluate()\n",
    "print(results)\n",
    "\n",
    "# Get the predictions and labels from the evaluation set\n",
    "predictions = trainer.predict(val_dataset)\n",
    "preds = predictions.predictions.argmax(-1)\n",
    "labels = predictions.label_ids"
   ]
  },
  {
   "cell_type": "code",
   "execution_count": 18,
   "metadata": {},
   "outputs": [
    {
     "name": "stdout",
     "output_type": "stream",
     "text": [
      "Accuracy: 0.9244874386370199\n",
      "Precision: 0.9051069870813023\n",
      "Recall: 0.9244874386370199\n",
      "F1-Score: 0.9135304217781979\n",
      "Confusion Matrix:\n",
      "[[  64   10   83]\n",
      " [  52    7  219]\n",
      " [ 107   52 6332]]\n"
     ]
    },
    {
     "data": {
      "image/png": "[encoded data removed]",
      "text/plain": [
       "<Figure size 800x600 with 1 Axes>"
      ]
     },
     "metadata": {},
     "output_type": "display_data"
    }
   ],
   "source": [
    "# Calculate accuracy, precision, recall, and F1-score\n",
    "accuracy = accuracy_score(labels, preds)\n",
    "precision, recall, f1, _ = precision_recall_fscore_support(\n",
    "    labels, preds, average=\"weighted\"\n",
    ")\n",
    "\n",
    "# Print the results\n",
    "print(f\"Accuracy: {accuracy}\")\n",
    "print(f\"Precision: {precision}\")\n",
    "print(f\"Recall: {recall}\")\n",
    "print(f\"F1-Score: {f1}\")\n",
    "\n",
    "# Compute confusion matrix\n",
    "conf_matrix = confusion_matrix(labels, preds)\n",
    "\n",
    "# Print confusion matrix\n",
    "print(\"Confusion Matrix:\")\n",
    "print(conf_matrix)\n",
    "\n",
    "# Plot the confusion matrix\n",
    "plt.figure(figsize=(8, 6))\n",
    "sns.heatmap(\n",
    "    conf_matrix,\n",
    "    annot=True,\n",
    "    fmt=\"d\",\n",
    "    cmap=\"viridis\",\n",
    "    cbar=False,\n",
    "    xticklabels=[\"Negative\", \"Neutral\", \"Positive\"],\n",
    "    yticklabels=[\"Negative\", \"Neutral\", \"Positive\"],\n",
    ")\n",
    "\n",
    "# Add labels and title\n",
    "plt.title(\"Confusion Matrix\", fontsize=16)\n",
    "plt.xlabel(\"Predicted Label\", fontsize=14)\n",
    "plt.ylabel(\"True Label\", fontsize=14)\n",
    "\n",
    "# Display the plot\n",
    "plt.show()"
   ]
  },
  {
   "cell_type": "code",
   "execution_count": 21,
   "metadata": {},
   "outputs": [
    {
     "data": {
      "text/plain": [
       "('./sentiment-analysis-roberta-Classweight3/tokenizer_config.json',\n",
       " './sentiment-analysis-roberta-Classweight3/special_tokens_map.json',\n",
       " './sentiment-analysis-roberta-Classweight3/vocab.json',\n",
       " './sentiment-analysis-roberta-Classweight3/merges.txt',\n",
       " './sentiment-analysis-roberta-Classweight3/added_tokens.json')"
      ]
     },
     "execution_count": 21,
     "metadata": {},
     "output_type": "execute_result"
    }
   ],
   "source": [
    "# Save the model and tokenizer\n",
    "model.save_pretrained(\"./sentiment-analysis-roberta-Classweight3\")\n",
    "tokenizer.save_pretrained(\"./sentiment-analysis-roberta-Classweight3\")"
   ]
  },
  {
   "cell_type": "code",
   "execution_count": 19,
   "metadata": {},
   "outputs": [
    {
     "name": "stdout",
     "output_type": "stream",
     "text": [
      "Predictions saved to 'val_pred_classweights3.csv'.\n"
     ]
    }
   ],
   "source": [
    "# Extract the 'text' from the val_dataset which is a Tensorfile now.\n",
    "texts = val_texts\n",
    "\n",
    "# Create a DataFrame with the texts, true labels, and predicted labels\n",
    "df_results = pd.DataFrame(\n",
    "    {\"Text\": texts, \"True Label\": labels, \"Predicted Label\": preds}\n",
    ")\n",
    "\n",
    "# Save the DataFrame as a CSV file for further analysis\n",
    "df_results.to_csv(\"val_pred_classweights3.csv\", index=False)\n",
    "\n",
    "print(\"Predictions saved to 'val_pred_classweights3.csv'.\")"
   ]
  },
  {
   "cell_type": "code",
   "execution_count": 25,
   "metadata": {},
   "outputs": [
    {
     "name": "stdout",
     "output_type": "stream",
     "text": [
      "Sentiment: Positive\n"
     ]
    }
   ],
   "source": [
    "# Example: Inference with new review\n",
    "new_review = \"This product is amazing, I love it!\"\n",
    "\n",
    "# Tokenize the new review\n",
    "inputs = tokenizer(\n",
    "    new_review, return_tensors=\"pt\", truncation=True, padding=True, max_length=128\n",
    ")\n",
    "\n",
    "# Ensure both model and inputs are on the same device (e.g., GPU if available)\n",
    "device = torch.device(\"cuda\" if torch.cuda.is_available() else \"cpu\")\n",
    "model.to(device)  # Move the model to GPU (if available)\n",
    "inputs = {\n",
    "    key: value.to(device) for key, value in inputs.items()\n",
    "}  # Move inputs to the same device\n",
    "\n",
    "# Get model predictions\n",
    "outputs = model(**inputs)\n",
    "predictions = torch.argmax(outputs.logits, dim=-1)\n",
    "\n",
    "# Map the predictions to labels\n",
    "label_mapping = {0: \"Negative\", 1: \"Neutral\", 2: \"Positive\"}\n",
    "print(f\"Sentiment: {label_mapping[predictions.item()]}\")"
   ]
  },
  {
   "cell_type": "code",
   "execution_count": 30,
   "metadata": {},
   "outputs": [
    {
     "name": "stdout",
     "output_type": "stream",
     "text": [
      "Found existing installation: pydantic 2.9.2\n",
      "Uninstalling pydantic-2.9.2:\n",
      "  Would remove:\n",
      "    /usr/local/lib/python3.11/dist-packages/pydantic-2.9.2.dist-info/*\n",
      "    /usr/local/lib/python3.11/dist-packages/pydantic/*\n",
      "Proceed (Y/n)? ^C\n",
      "\u001b[31mERROR: Operation cancelled by user\u001b[0m\u001b[31m\n",
      "\u001b[0m"
     ]
    }
   ],
   "source": [
    "#!pip uninstall pydantic"
   ]
  },
  {
   "cell_type": "code",
   "execution_count": 2,
   "metadata": {},
   "outputs": [
    {
     "name": "stdout",
     "output_type": "stream",
     "text": [
      "* Running on local URL:  http://127.0.0.1:7861\n",
      "* Running on public URL: https://28da5aab100162b1d7.gradio.live\n",
      "\n",
      "This share link expires in 72 hours. For free permanent hosting and GPU upgrades, run `gradio deploy` from the terminal in the working directory to deploy to Hugging Face Spaces (https://huggingface.co/spaces)\n"
     ]
    },
    {
     "data": {
      "text/html": [
       "<div><iframe src=\"https://28da5aab100162b1d7.gradio.live\" width=\"100%\" height=\"500\" allow=\"autoplay; camera; microphone; clipboard-read; clipboard-write;\" frameborder=\"0\" allowfullscreen></iframe></div>"
      ],
      "text/plain": [
       "<IPython.core.display.HTML object>"
      ]
     },
     "metadata": {},
     "output_type": "display_data"
    },
    {
     "data": {
      "text/plain": []
     },
     "execution_count": 2,
     "metadata": {},
     "output_type": "execute_result"
    }
   ],
   "source": [
    "# NEED to make sure gradio and pydantic versions are compatible with each other\n",
    "#!pip install gradio\n",
    "#!pip install --upgrade pydantic\n",
    "\n",
    "import gradio as gr\n",
    "import torch\n",
    "from transformers import RobertaTokenizer, RobertaForSequenceClassification\n",
    "\n",
    "# Load your pre-trained model and tokenizer\n",
    "model = RobertaForSequenceClassification.from_pretrained(\n",
    "    \"./sentiment-analysis-roberta-Classweight3\"\n",
    ")\n",
    "tokenizer = RobertaTokenizer.from_pretrained(\n",
    "    \"./sentiment-analysis-roberta-Classweight3\"\n",
    ")\n",
    "\n",
    "# Move the model to the correct device\n",
    "device = torch.device(\"cuda\" if torch.cuda.is_available() else \"cpu\")\n",
    "model.to(device)\n",
    "\n",
    "\n",
    "# Define the function to predict sentiment\n",
    "def predict_sentiment(review_text):\n",
    "    # Tokenize the input text\n",
    "    inputs = tokenizer(\n",
    "        review_text, return_tensors=\"pt\", truncation=True, padding=True, max_length=128\n",
    "    )\n",
    "    inputs = {\n",
    "        key: value.to(device) for key, value in inputs.items()\n",
    "    }  # Move inputs to the same device\n",
    "\n",
    "    # Get the model predictions\n",
    "    outputs = model(**inputs)\n",
    "    predictions = torch.argmax(outputs.logits, dim=-1)\n",
    "\n",
    "    # Map the prediction to sentiment labels\n",
    "    label_mapping = {0: \"Negative\", 1: \"Neutral\", 2: \"Positive\"}\n",
    "    return label_mapping[predictions.item()]\n",
    "\n",
    "\n",
    "# Create a Gradio interface\n",
    "interface = gr.Interface(\n",
    "    fn=predict_sentiment,  # Function to call for predictions\n",
    "    inputs=\"text\",  # Input is a text box\n",
    "    outputs=\"text\",  # Output is a text box with the prediction\n",
    "    title=\"Sentiment Analysis\",  # Title of the web app\n",
    "    description=\"Enter a product review to predict the sentiment (Positive, Neutral, Negative).\",\n",
    ")\n",
    "\n",
    "# Launch the interface\n",
    "interface.launch(share=True)"
   ]
  }
 ],
 "metadata": {
  "kernelspec": {
   "display_name": "Python 3 (ipykernel)",
   "language": "python",
   "name": "python3"
  },
  "language_info": {
   "codemirror_mode": {
    "name": "ipython",
    "version": 3
   },
   "file_extension": ".py",
   "mimetype": "text/x-python",
   "name": "python",
   "nbconvert_exporter": "python",
   "pygments_lexer": "ipython3",
   "version": "3.11.7"
  }
 },
 "nbformat": 4,
 "nbformat_minor": 2
}
